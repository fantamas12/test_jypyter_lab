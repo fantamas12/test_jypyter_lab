{
 "cells": [
  {
   "cell_type": "markdown",
   "id": "efce0913-0322-4aed-9a61-fa667993ecb1",
   "metadata": {},
   "source": [
    "list data science libraries:\n",
    "- TensorFlow\n",
    "- NumPy\n",
    "- SciPy\n",
    "- Pandas\n",
    "- Matplotlib\n",
    "- Keras\n",
    "- SciKit-Learn\n",
    "- PyTorch\n",
    "- Scrapy\n",
    "- LightGBM\n",
    "- NuPIC\n",
    "- Ramp\n"
   ]
  },
  {
   "cell_type": "markdown",
   "id": "50ea47b5-46f0-42a9-9944-afc37e1b7dc2",
   "metadata": {},
   "source": [
    "Data Science Tools:\n",
    "\n",
    "| Data Science Tools |\n",
    "| ------------------ |\n",
    "| Apache Spark |\n",
    "| TensorFlow |\n",
    "| MATLAB |\n"
   ]
  },
  {
   "cell_type": "markdown",
   "id": "2975f138-d1e3-46fd-9fd7-a8c0dd88a1c6",
   "metadata": {},
   "source": [
    "# markdown cell introducing arithmetic expression examples:"
   ]
  },
  {
   "cell_type": "code",
   "execution_count": 6,
   "id": "1e2adb4d-2c3c-4484-8751-c287163c6cd3",
   "metadata": {
    "tags": []
   },
   "outputs": [
    {
     "data": {
      "text/plain": [
       "9"
      ]
     },
     "execution_count": 6,
     "metadata": {},
     "output_type": "execute_result"
    }
   ],
   "source": [
    "test = compile(\"(1 + 1 * 8)\", \"<string>\", \"eval\")\n",
    "eval(test)\n",
    "# Result: 9"
   ]
  },
  {
   "cell_type": "markdown",
   "id": "99ba5932-df99-4c04-af81-8e542d824745",
   "metadata": {},
   "source": [
    "## code cell to multiply and add numbers"
   ]
  },
  {
   "cell_type": "code",
   "execution_count": 7,
   "id": "4bb71e4e-a294-49d8-a371-219cbcbbaa1d",
   "metadata": {
    "tags": []
   },
   "outputs": [
    {
     "data": {
      "text/plain": [
       "6"
      ]
     },
     "execution_count": 7,
     "metadata": {},
     "output_type": "execute_result"
    }
   ],
   "source": [
    "2+2*2\n",
    "#result:6"
   ]
  },
  {
   "cell_type": "markdown",
   "id": "265f9bf2-43be-48b7-b388-cc744463cc3f",
   "metadata": {},
   "source": [
    "## code cell to convert minutes to hours\n"
   ]
  },
  {
   "cell_type": "code",
   "execution_count": 10,
   "id": "5473bb88-7ee8-4c33-bc0f-ed9fddc635ff",
   "metadata": {
    "tags": []
   },
   "outputs": [
    {
     "name": "stdout",
     "output_type": "stream",
     "text": [
      "4.566666666666666 hour\n"
     ]
    }
   ],
   "source": [
    "min_in_hour = 60\n",
    "\n",
    "time = 274\n",
    "\n",
    "convert = time/min_in_hour\n",
    "\n",
    "print(str(convert) + ' hour')\n",
    "\n",
    "#result 4.566666666666666"
   ]
  },
  {
   "cell_type": "markdown",
   "id": "35909400-d593-43b2-bebf-15166b514240",
   "metadata": {},
   "source": [
    "# List Objectives"
   ]
  },
  {
   "cell_type": "markdown",
   "id": "c48fdb95-4c93-4bf4-a727-f93c3da2e1eb",
   "metadata": {},
   "source": [
    "* Leveraging Jupyterlite Notebook on Skills Network labs\n",
    "* create your Jupyterlite Notebook (in English) \n",
    "* share it via a public GitHub link."
   ]
  },
  {
   "cell_type": "markdown",
   "id": "3a0c862f-52df-4b59-b614-a4492cd31755",
   "metadata": {},
   "source": [
    "# Author’s name: Ivanenko Bogdan"
   ]
  },
  {
   "cell_type": "code",
   "execution_count": null,
   "id": "3493892e-069f-4b87-bfff-b37f8372e3e9",
   "metadata": {},
   "outputs": [],
   "source": []
  }
 ],
 "metadata": {
  "kernelspec": {
   "display_name": "Python",
   "language": "python",
   "name": "conda-env-python-py"
  },
  "language_info": {
   "codemirror_mode": {
    "name": "ipython",
    "version": 3
   },
   "file_extension": ".py",
   "mimetype": "text/x-python",
   "name": "python",
   "nbconvert_exporter": "python",
   "pygments_lexer": "ipython3",
   "version": "3.7.12"
  }
 },
 "nbformat": 4,
 "nbformat_minor": 5
}
